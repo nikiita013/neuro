{
 "cells": [
  {
   "cell_type": "code",
   "execution_count": 18,
   "metadata": {
    "collapsed": true
   },
   "outputs": [],
   "source": [
    "import matplotlib.pyplot as plt\n",
    "import numpy as np\n",
    "import sys\n",
    "from sympy.solvers import solve\n",
    "import seaborn as sns\n",
    "from matplotlib.colors import Normalize\n",
    "from mpl_toolkits.axes_grid1 import make_axes_locatable"
   ]
  },
  {
   "cell_type": "code",
   "execution_count": 2,
   "metadata": {
    "collapsed": true
   },
   "outputs": [],
   "source": [
    "def Plot(v, f1, str1, f2, str2, f3, str3, ylabel):\n",
    "    #print(str1, str2, str3, ylabel)\n",
    "    plt.plot(v, f1, label=str1)\n",
    "    plt.plot(v, f2, label=str2)\n",
    "    plt.plot(v, f3, label=str3)\n",
    "    \n",
    "    plt.legend()\n",
    "    plt.grid()\n",
    "    plt.xlabel(\"Voltage v (mV)\")\n",
    "    plt.ylabel(ylabel)\n",
    "    plt.show()"
   ]
  },
  {
   "cell_type": "markdown",
   "metadata": {},
   "source": [
    "## Question 1"
   ]
  },
  {
   "cell_type": "markdown",
   "metadata": {},
   "source": [
    "### Defining the Alpha, Beta equations"
   ]
  },
  {
   "cell_type": "code",
   "execution_count": 3,
   "metadata": {
    "collapsed": true
   },
   "outputs": [],
   "source": [
    "alpha_m = lambda V : (2.5 - 0.1 * (V)) / (np.exp(2.5 - 0.1 * (V)) - 1)\n",
    "alpha_n = lambda V : (0.1 - 0.01 * (V)) / (np.exp(1 - 0.1 * (V)) - 1)\n",
    "alpha_h = lambda V : 0.07* np.exp((V)/-20.0)\n",
    "\n",
    "beta_m = lambda V : 4* np.exp((V)/-18.0)\n",
    "beta_n = lambda V : 0.125* np.exp((V)/-80.0)\n",
    "beta_h = lambda V : 1/(np.exp(3-0.1*(V)) + 1)"
   ]
  },
  {
   "cell_type": "markdown",
   "metadata": {},
   "source": [
    "### Defining the Steady state and time constant equations"
   ]
  },
  {
   "cell_type": "code",
   "execution_count": 4,
   "metadata": {
    "collapsed": true
   },
   "outputs": [],
   "source": [
    "steady_state_m = lambda V: alpha_m(V)/(alpha_m(V) + beta_m(V))\n",
    "steady_state_n = lambda V: alpha_n(V)/(alpha_n(V) + beta_n(V))\n",
    "steady_state_h = lambda V: alpha_h(V)/(alpha_h(V) + beta_h(V))\n",
    "\n",
    "time_constant_m = lambda V, T: 1/((3.0**(0.1*(T-6.3)))*(alpha_m(V) + beta_m(V)))\n",
    "time_constant_n = lambda V, T: 1/((3.0**(0.1*(T-6.3)))*(alpha_n(V) + beta_n(V)))\n",
    "time_constant_h = lambda V, T: 1/((3.0**(0.1*(T-6.3)))*(alpha_h(V) + beta_h(V)))"
   ]
  },
  {
   "cell_type": "markdown",
   "metadata": {},
   "source": [
    "## Question 2 (Hodgkin Huxley)"
   ]
  },
  {
   "cell_type": "code",
   "execution_count": 5,
   "metadata": {
    "collapsed": true
   },
   "outputs": [],
   "source": [
    "def PlotMembranePotential(T, V):\n",
    "    plt.plot(T,V, label=\"Membrane Potential\")\n",
    "    plt.grid()\n",
    "    plt.legend()\n",
    "    plt.xlabel(\"Time t (ms)\")\n",
    "    plt.ylabel(\"V(t) (mV)\")\n",
    "    plt.show()"
   ]
  },
  {
   "cell_type": "code",
   "execution_count": 6,
   "metadata": {
    "collapsed": true
   },
   "outputs": [],
   "source": [
    "def PlotGatingVariables(T, M, N, H):\n",
    "    plt.plot(T,M, label=\"m\")\n",
    "    plt.plot(T,N, label=\"n\")\n",
    "    plt.plot(T,H, label=\"h\")\n",
    "    plt.grid()\n",
    "    plt.legend()\n",
    "    plt.xlabel(\"Time t (ms)\")\n",
    "    plt.ylabel(\"P(t)\")\n",
    "    plt.show()"
   ]
  },
  {
   "cell_type": "code",
   "execution_count": 7,
   "metadata": {
    "collapsed": true
   },
   "outputs": [],
   "source": [
    "def PlotCurrents(T, i_Na, i_K):\n",
    "    plt.plot(T,i_Na, label=\"$i_{Na}$\")\n",
    "    plt.plot(T,i_K, label=\"$i_{K}$\")\n",
    "    plt.grid()\n",
    "    plt.legend()\n",
    "    plt.xlabel(\"Time t (ms)\")\n",
    "    plt.ylabel(\"i(t) ($10^{-6}$A/$cm^2$)\")\n",
    "    plt.show()"
   ]
  },
  {
   "cell_type": "code",
   "execution_count": 8,
   "metadata": {
    "collapsed": true
   },
   "outputs": [],
   "source": [
    "def PlotPhasePlot(V, i_Na, i_K, i_L):\n",
    "    plt.plot(V,i_Na, label=\"$i_{Na}$\")\n",
    "    plt.plot(V,i_K, label=\"$i_{K}$\")\n",
    "    plt.plot(V,i_L, label=\"$i_{L}$\")\n",
    "    plt.grid()\n",
    "    plt.legend()\n",
    "    plt.xlabel(\"Voltage V (mV)\")\n",
    "    plt.ylabel(\"i(t) ($10^{-6}$A/$cm^2$)\")\n",
    "    plt.show()"
   ]
  },
  {
   "cell_type": "markdown",
   "metadata": {},
   "source": [
    "**Calculating the Coefficients A and B for corresponding Gating Variable DE**"
   ]
  },
  {
   "cell_type": "code",
   "execution_count": 9,
   "metadata": {
    "collapsed": true
   },
   "outputs": [],
   "source": [
    "k = lambda T: 3.0**(0.1*(T-6.3))\n",
    "A_m = lambda V,temp: -1 * (alpha_m(V) + beta_m(V)) * k(temp)\n",
    "B_m = lambda V,temp: alpha_m(V)*k(temp)\n",
    "A_n = lambda V,temp: -1 * (alpha_n(V) + beta_n(V)) * k(temp)\n",
    "B_n = lambda V,temp: alpha_n(V)*k(temp)\n",
    "A_h = lambda V,temp: -1 * (alpha_h(V) + beta_h(V)) * k(temp)\n",
    "B_h = lambda V,temp: alpha_h(V)*k(temp)\n"
   ]
  },
  {
   "cell_type": "markdown",
   "metadata": {},
   "source": [
    "**Implementation of HH Model**"
   ]
  },
  {
   "cell_type": "code",
   "execution_count": 83,
   "metadata": {
    "collapsed": true
   },
   "outputs": [],
   "source": [
    "def IHHExp(num_comp, i_stim, T, V_init, m_init, n_init, h_init, V_Na, V_K, V_L, g_Na, g_K, g_L, C_m, R_a, dt, temp, A_m, B_m, A_n, B_n, A_h, B_h):\n",
    "        \n",
    "    Identity_vec = np.ones(num_comp)\n",
    "    \n",
    "    M = np.zeros((num_comp,len(T)))\n",
    "    N = np.zeros((num_comp,len(T)))\n",
    "    H = np.zeros((num_comp,len(T)))\n",
    "    \n",
    "    i_Na = np.zeros((num_comp,len(T)))\n",
    "    i_K = np.zeros((num_comp,len(T)))\n",
    "    i_L = np.zeros((num_comp,len(T)))\n",
    "    \n",
    "    V = np.zeros((num_comp,len(T)))\n",
    "    \n",
    "    M[:,0] = m_init*Identity_vec\n",
    "    N[:,0] = n_init*Identity_vec\n",
    "    H[:,0] = h_init*Identity_vec\n",
    "    \n",
    "    V[:,0] = V_init*Identity_vec\n",
    "    \n",
    "    V_Nam = V_Na * Identity_vec\n",
    "    V_Km = V_K * Identity_vec\n",
    "    V_Lm = V_L * Identity_vec\n",
    "\n",
    "    combination = np.zeros((num_comp,num_comp))\n",
    "    combination[0][0] = -1\n",
    "    combination[0][1] = 1\n",
    "    for i in range(1,num_comp-1):\n",
    "        combination[i][i] = -2\n",
    "        combination[i][i-1] = 1\n",
    "        combination[i][i+1] = 1\n",
    "    combination[i+1][i+1] = -1\n",
    "    combination[i+1][i] = 1\n",
    "\n",
    "    A = np.identity(num_comp) - (dt/(C_m*R_a))*combination\n",
    "\n",
    "    for i in range(1,len(T)):\n",
    "        M[:, i] = M[:, i-1]*np.exp(A_m(V[:, i-1],temp)*dt) + (B_m(V[:, i-1], temp)/A_m(V[:, i-1],temp))*(np.exp(A_m(V[:, i-1], temp)*dt)-1)\n",
    "        N[:, i] = N[:, i-1]*np.exp(A_n(V[:, i-1],temp)*dt) + (B_n(V[:, i-1], temp)/A_n(V[:, i-1],temp))*(np.exp(A_n(V[:, i-1], temp)*dt)-1)\n",
    "        H[:, i] = H[:, i-1]*np.exp(A_h(V[:, i-1],temp)*dt) + (B_h(V[:, i-1], temp)/A_h(V[:, i-1],temp))*(np.exp(A_h(V[:, i-1], temp)*dt)-1)\n",
    "        \n",
    "        i_Na[:,i] = g_Na*(M[:,i-1]**3)*H[:,i-1]*(V[:,i-1]-V_Nam)\n",
    "        i_K[:,i] = g_K*(N[:,i-1]**4)*(V[:,i-1]-V_Km)\n",
    "        i_L[:,i] = g_L*(V[:,i-1]-V_Lm)\n",
    "\n",
    "        B = V[:, i-1] + (dt/C_m)*(i_stim[:,i]-i_Na[:,i]-i_K[:,i]-i_L[:,i])\n",
    "        V[:,i] = np.linalg.solve(A,B)\n",
    "        \n",
    "    return V"
   ]
  },
  {
   "cell_type": "code",
   "execution_count": 126,
   "metadata": {
    "collapsed": true
   },
   "outputs": [],
   "source": [
    "num_comp = 100\n",
    "resistivity = 0.1\n",
    "length = 1e-5\n",
    "radius = 2e-4\n",
    "\n",
    "R_a = lambda ra, rhoa, la: ((rhoa * la)/(np.pi*ra*ra))\n",
    "\n",
    "R_axon = R_a(radius,resistivity,length)\n",
    "r_axon = R_axon/length"
   ]
  },
  {
   "cell_type": "markdown",
   "metadata": {},
   "source": [
    "**Defining the Input current**"
   ]
  },
  {
   "cell_type": "code",
   "execution_count": 116,
   "metadata": {
    "collapsed": true
   },
   "outputs": [],
   "source": [
    "dt = 0.025\n",
    "\n",
    "T = np.arange(0,100,dt)\n",
    "\n",
    "I_stim1 = np.zeros((num_comp,len(T)))\n",
    "tem = int(5/dt)\n",
    "t_Arr = range(tem+1)\n",
    "I_stim1[0,t_Arr] = 10\n",
    "\n",
    "I_stim2 = np.zeros((num_comp,len(T)))\n",
    "I_stim2[19,t_Arr] = 10\n",
    "I_stim2[79,t_Arr] = 10"
   ]
  },
  {
   "cell_type": "markdown",
   "metadata": {},
   "source": [
    "**Defining the initial parameters**"
   ]
  },
  {
   "cell_type": "code",
   "execution_count": 133,
   "metadata": {
    "collapsed": true
   },
   "outputs": [],
   "source": [
    "V_init = 0\n",
    "m_init = steady_state_m(V_init)\n",
    "n_init = steady_state_n(V_init)\n",
    "h_init = steady_state_h(V_init)\n",
    "\n",
    "\n",
    "V_Na = 115\n",
    "V_K = -12\n",
    "V_L = 10.6\n",
    "g_Na = 120\n",
    "g_K = 36\n",
    "g_L = 0.3\n",
    "C_m = 1\n",
    "V_rest = -70"
   ]
  },
  {
   "cell_type": "markdown",
   "metadata": {},
   "source": [
    "**HH values for Temp = 6.3 and current I1**"
   ]
  },
  {
   "cell_type": "code",
   "execution_count": 131,
   "metadata": {
    "collapsed": true
   },
   "outputs": [],
   "source": [
    "V1 = IHHExp(num_comp, I_stim1, T, V_init, m_init, n_init, h_init, V_Na, V_K, V_L, g_Na, g_K, g_L, C_m, R_axon, dt, 6.3, A_m, B_m, A_n, B_n, A_h, B_h)"
   ]
  },
  {
   "cell_type": "code",
   "execution_count": 109,
   "metadata": {
    "collapsed": true
   },
   "outputs": [],
   "source": [
    "\n",
    "V2 = IHHExp(num_comp, I_stim2, T, V_init, m_init, n_init, h_init, V_Na, V_K, V_L, g_Na, g_K, g_L, C_m, R_axon, dt, 12, A_m, B_m, A_n, B_n, A_h, B_h)\n"
   ]
  },
  {
   "cell_type": "code",
   "execution_count": 97,
   "metadata": {
    "collapsed": true
   },
   "outputs": [],
   "source": [
    "def PlotCM(V):\n",
    "    \n",
    "    plt.figure(figsize=(10, 10), dpi=100)\n",
    "    ax1 = plt.subplot(111)\n",
    "    im1 = ax1.imshow(V, cmap='magma', aspect='auto', origin='lower', extent=[0, 100, 0, 100])\n",
    "    plt.xlabel('t (ms)', fontsize=13)\n",
    "    plt.ylabel('Compartment Nr.', fontsize=13)\n",
    "    plt.xticks(np.arange(0, 101, 10))\n",
    "    plt.yticks(np.arange(0, 101, 10))\n",
    "    divider = make_axes_locatable(ax1)\n",
    "    cax1 = divider.append_axes(\"right\", size=\"5%\", pad=0.1)\n",
    "    cbar1 = plt.colorbar(im1, cax=cax1)\n",
    "    cbar1.set_label('V (mV)', fontsize=13)\n",
    "    plt.savefig('voltage.pdf')\n",
    "    plt.show();"
   ]
  },
  {
   "cell_type": "code",
   "execution_count": 132,
   "metadata": {},
   "outputs": [
    {
     "data": {
      "image/png": "[encoded data removed]",
      "text/plain": [
       "<matplotlib.figure.Figure at 0x7ff5cb79ba20>"
      ]
     },
     "metadata": {},
     "output_type": "display_data"
    }
   ],
   "source": [
    "PlotCM(V1)"
   ]
  },
  {
   "cell_type": "code",
   "execution_count": null,
   "metadata": {
    "collapsed": true
   },
   "outputs": [],
   "source": []
  }
 ],
 "metadata": {
  "kernelspec": {
   "display_name": "Python 3",
   "language": "python",
   "name": "python3"
  },
  "language_info": {
   "codemirror_mode": {
    "name": "ipython",
    "version": 3
   },
   "file_extension": ".py",
   "mimetype": "text/x-python",
   "name": "python",
   "nbconvert_exporter": "python",
   "pygments_lexer": "ipython3",
   "version": "3.6.2"
  }
 },
 "nbformat": 4,
 "nbformat_minor": 2
}
